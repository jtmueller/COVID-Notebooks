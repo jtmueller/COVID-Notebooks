{
 "cells": [
  {
   "cell_type": "markdown",
   "metadata": {},
   "source": [
    "This notebook downloads daily state COVID-19 data from [The COVID Tracking Project](https://covidtracking.com/) and analyzes it."
   ]
  },
  {
   "cell_type": "markdown",
   "metadata": {},
   "source": [
    "### Set Up\n",
    "\n",
    "Configures [DataFrame](https://devblogs.microsoft.com/dotnet/an-introduction-to-dataframe/), HttpClient"
   ]
  },
  {
   "cell_type": "code",
   "execution_count": 59,
   "metadata": {},
   "outputs": [],
   "source": [
    "#r \"nuget:Microsoft.Data.Analysis\"\n",
    "using Microsoft.Data.Analysis;\n",
    "using Microsoft.AspNetCore.Html;\n",
    "using System.Net.Http;\n",
    "\n",
    "// DataFrame formatter for Jupyter\n",
    "Formatter<DataFrame>.Register((df, writer) => \n",
    "{\n",
    "    var headers = new List<IHtmlContent>();\n",
    "    headers.Add(th(i(\"index\")));\n",
    "    headers.AddRange(df.Columns.Select(c => (IHtmlContent)th(c.Name)));\n",
    "    var rows = new List<List<IHtmlContent>>();\n",
    "    var take = 5;\n",
    "    for (var i = 0; i < Math.Min(take, df.Rows.Count); i++)\n",
    "    {\n",
    "        var cells = new List<IHtmlContent>();\n",
    "        cells.Add(td(i));\n",
    "        foreach (var obj in df.Rows[i])\n",
    "        {\n",
    "            cells.Add(td(obj));\n",
    "        }\n",
    "        rows.Add(cells);\n",
    "    }\n",
    "    \n",
    "    var t = table(\n",
    "        thead(headers),\n",
    "        tbody(rows.Select(r => tr(r)))\n",
    "    );\n",
    "    \n",
    "    writer.Write(t);\n",
    "}, \"text/html\");\n",
    "\n",
    "\n",
    "var client = new HttpClient();"
   ]
  },
  {
   "cell_type": "markdown",
   "metadata": {},
   "source": [
    "### Get Daily Data by State\n",
    "\n",
    "[Model Documentation](https://covidtracking.com/api#apistatesdaily---states-historical-data)"
   ]
  },
  {
   "cell_type": "code",
   "execution_count": 62,
   "metadata": {},
   "outputs": [
    {
     "data": {
      "text/html": [
       "<table><thead><th><i>index</i></th><th>date</th><th>state</th><th>positive</th><th>negative</th><th>pending</th><th>hospitalizedCurrently</th><th>hospitalizedCumulative</th><th>inIcuCurrently</th><th>inIcuCumulative</th><th>onVentilatorCurrently</th><th>onVentilatorCumulative</th><th>recovered</th><th>dateChecked</th><th>death</th><th>hospitalized</th><th>totalTestResults</th><th>fips</th><th>deathIncrease</th><th>hospitalizedIncrease</th><th>negativeIncrease</th><th>positiveIncrease</th><th>totalTestResultsIncrease</th></thead><tbody><tr><td>0</td><td>20200408</td><td>MN</td><td>1242</td><td>31052</td><td>&lt;null&gt;</td><td>145</td><td>293</td><td>63</td><td>119</td><td>&lt;null&gt;</td><td>&lt;null&gt;</td><td>675</td><td>2020-04-09 20:00:00Z</td><td>50</td><td>293</td><td>32294</td><td>27</td><td>11</td><td>22</td><td>1453</td><td>88</td><td>1541</td></tr><tr><td>1</td><td>20200408</td><td>MN</td><td>1154</td><td>29599</td><td>&lt;null&gt;</td><td>135</td><td>271</td><td>64</td><td>105</td><td>&lt;null&gt;</td><td>&lt;null&gt;</td><td>632</td><td>2020-04-08 20:00:00Z</td><td>39</td><td>271</td><td>30753</td><td>27</td><td>5</td><td>29</td><td>1408</td><td>85</td><td>1493</td></tr><tr><td>2</td><td>20200408</td><td>MN</td><td>1069</td><td>28191</td><td>&lt;null&gt;</td><td>120</td><td>242</td><td>64</td><td>100</td><td>&lt;null&gt;</td><td>&lt;null&gt;</td><td>549</td><td>2020-04-07 20:00:00Z</td><td>34</td><td>242</td><td>29260</td><td>27</td><td>4</td><td>19</td><td>1049</td><td>83</td><td>1132</td></tr><tr><td>3</td><td>20200406</td><td>MN</td><td>986</td><td>27142</td><td>&lt;null&gt;</td><td>115</td><td>223</td><td>57</td><td>90</td><td>&lt;null&gt;</td><td>&lt;null&gt;</td><td>470</td><td>2020-04-06 20:00:00Z</td><td>30</td><td>223</td><td>28128</td><td>27</td><td>1</td><td>21</td><td>1300</td><td>51</td><td>1351</td></tr><tr><td>4</td><td>20200404</td><td>MN</td><td>935</td><td>25842</td><td>&lt;null&gt;</td><td>106</td><td>202</td><td>48</td><td>77</td><td>&lt;null&gt;</td><td>&lt;null&gt;</td><td>451</td><td>2020-04-05 20:00:00Z</td><td>29</td><td>202</td><td>26777</td><td>27</td><td>5</td><td>22</td><td>1284</td><td>70</td><td>1354</td></tr></tbody></table>"
      ]
     },
     "metadata": {},
     "output_type": "display_data"
    }
   ],
   "source": [
    "string state = \"MN\";\n",
    "\n",
    "DataFrame data;\n",
    "\n",
    "// download the CSV and load it into a DataFrame\n",
    "using (var response = await client.GetAsync(\"https://covidtracking.com/api/states/daily.csv?state=\" + state))\n",
    "using (var stream = await response.Content.ReadAsStreamAsync())\n",
    "{\n",
    "    data = DataFrame.LoadCsv(stream);\n",
    "}\n",
    "\n",
    "// parse the dateChecked column\n",
    "var columns = data.Columns;\n",
    "var dateChecked = columns[\"dateChecked\"];\n",
    "var newDateChecked = new PrimitiveDataFrameColumn<DateTimeOffset>(\"dateChecked\", dateChecked.Length);\n",
    "for (var i = 0; i < dateChecked.Length; i++)\n",
    "{\n",
    "    newDateChecked[i] = DateTimeOffset.Parse((string)dateChecked[i]);\n",
    "}\n",
    "columns[\"dateChecked\"] = newDateChecked;\n",
    "\n",
    "// remove some deprecated/unused columns\n",
    "columns.Remove(\"total\");\n",
    "columns.Remove(\"hash\");\n",
    "columns.Remove(\"posNeg\");\n",
    "\n",
    "// show first five rows of loaded data\n",
    "display(data);"
   ]
  },
  {
   "cell_type": "markdown",
   "metadata": {},
   "source": [
    "### Render Chart"
   ]
  },
  {
   "cell_type": "code",
   "execution_count": 63,
   "metadata": {},
   "outputs": [
    {
     "data": {
      "text/html": [
       "<div id=\"9e47cdea-da46-4b50-aa6c-20a14b22dcf7\" style=\"width: 900px; height: 500px;\"></div>\r\n",
       "<script type=\"text/javascript\">\r\n",
       "\r\n",
       "var renderPlotly = function() {\r\n",
       "    var xplotRequire = requirejs.config({context:'xplot-3.0.1',paths:{plotly:'https://cdn.plot.ly/plotly-1.49.2.min'}});\r\n",
       "    xplotRequire(['plotly'], function(Plotly) {\r\n",
       "\n",
       "            var data = [{\"type\":\"scatter\",\"x\":[\"2020-04-09T20:00:00+00:00\",\"2020-04-08T20:00:00+00:00\",\"2020-04-07T20:00:00+00:00\",\"2020-04-06T20:00:00+00:00\",\"2020-04-05T20:00:00+00:00\",\"2020-04-04T20:00:00+00:00\",\"2020-04-03T20:00:00+00:00\",\"2020-04-02T20:00:00+00:00\",\"2020-04-01T20:00:00+00:00\",\"2020-03-31T20:00:00+00:00\",\"2020-03-30T20:00:00+00:00\",\"2020-03-29T20:00:00+00:00\",\"2020-03-28T20:00:00+00:00\",\"2020-03-27T20:00:00+00:00\",\"2020-03-26T20:00:00+00:00\",\"2020-03-25T20:00:00+00:00\",\"2020-03-24T20:00:00+00:00\",\"2020-03-23T20:00:00+00:00\",\"2020-03-22T20:00:00+00:00\",\"2020-03-21T20:00:00+00:00\",\"2020-03-20T20:00:00+00:00\",\"2020-03-19T20:00:00+00:00\",\"2020-03-18T20:00:00+00:00\",\"2020-03-17T20:00:00+00:00\",\"2020-03-16T20:00:00+00:00\",\"2020-03-15T20:00:00+00:00\",\"2020-03-14T20:00:00+00:00\",\"2020-03-13T20:00:00+00:00\",\"2020-03-12T20:00:00+00:00\",\"2020-03-11T20:00:00+00:00\",\"2020-03-10T20:00:00+00:00\",\"2020-03-09T20:00:00+00:00\",\"2020-03-08T20:00:00+00:00\",\"2020-03-07T21:00:00+00:00\",\"2020-03-06T21:00:00+00:00\"],\"y\":[1242.0,1154.0,1069.0,986.0,935.0,865.0,789.0,742.0,689.0,629.0,576.0,503.0,441.0,398.0,346.0,287.0,262.0,235.0,169.0,138.0,115.0,89.0,77.0,60.0,54.0,35.0,21.0,14.0,9.0,5.0,3.0,2.0,1.0,1.0,0.0],\"name\":\"Cases\"},{\"type\":\"scatter\",\"x\":[\"2020-04-09T20:00:00+00:00\",\"2020-04-08T20:00:00+00:00\",\"2020-04-07T20:00:00+00:00\",\"2020-04-06T20:00:00+00:00\",\"2020-04-05T20:00:00+00:00\",\"2020-04-04T20:00:00+00:00\",\"2020-04-03T20:00:00+00:00\",\"2020-04-02T20:00:00+00:00\",\"2020-04-01T20:00:00+00:00\",\"2020-03-31T20:00:00+00:00\",\"2020-03-30T20:00:00+00:00\",\"2020-03-29T20:00:00+00:00\",\"2020-03-28T20:00:00+00:00\",\"2020-03-27T20:00:00+00:00\",\"2020-03-26T20:00:00+00:00\",\"2020-03-25T20:00:00+00:00\",\"2020-03-24T20:00:00+00:00\",\"2020-03-23T20:00:00+00:00\",\"2020-03-22T20:00:00+00:00\",\"2020-03-21T20:00:00+00:00\",\"2020-03-20T20:00:00+00:00\",\"2020-03-19T20:00:00+00:00\",\"2020-03-18T20:00:00+00:00\",\"2020-03-17T20:00:00+00:00\",\"2020-03-16T20:00:00+00:00\",\"2020-03-15T20:00:00+00:00\",\"2020-03-14T20:00:00+00:00\",\"2020-03-13T20:00:00+00:00\",\"2020-03-12T20:00:00+00:00\",\"2020-03-11T20:00:00+00:00\",\"2020-03-10T20:00:00+00:00\",\"2020-03-09T20:00:00+00:00\",\"2020-03-08T20:00:00+00:00\",\"2020-03-07T21:00:00+00:00\",\"2020-03-06T21:00:00+00:00\"],\"y\":[50.0,39.0,34.0,30.0,29.0,24.0,22.0,18.0,17.0,12.0,10.0,9.0,5.0,4.0,2.0,1.0,1.0,1.0,1.0,1.0,null,null,null,null,null,null,null,null,null,null,null,null,null,null,null],\"name\":\"Deaths\"}];\n",
       "            var layout = {\"title\":\"Cases vs Deaths: MN\"};\n",
       "            Plotly.newPlot('9e47cdea-da46-4b50-aa6c-20a14b22dcf7', data, layout);\n",
       "        \r\n",
       "});\r\n",
       "};\r\n",
       "if ((typeof(requirejs) !==  typeof(Function)) || (typeof(requirejs.config) !== typeof(Function))) { \r\n",
       "    var script = document.createElement(\"script\"); \r\n",
       "    script.setAttribute(\"src\", \"https://cdnjs.cloudflare.com/ajax/libs/require.js/2.3.6/require.min.js\"); \r\n",
       "    script.onload = function(){\r\n",
       "        renderPlotly();\r\n",
       "    };\r\n",
       "    document.getElementsByTagName(\"head\")[0].appendChild(script); \r\n",
       "}\r\n",
       "else {\r\n",
       "    renderPlotly();\r\n",
       "}\r\n",
       "</script>\r\n"
      ]
     },
     "metadata": {},
     "output_type": "display_data"
    }
   ],
   "source": [
    "#r \"nuget:XPlot.Plotly\"\n",
    "using XPlot.Plotly;\n",
    "\n",
    "var cases = new Graph.Scatter\n",
    "{\n",
    "    name = \"Cases\",\n",
    "    x = data.Columns[\"dateChecked\"],\n",
    "    y = data.Columns[\"positive\"]\n",
    "};\n",
    "\n",
    "var deaths = new Graph.Scatter\n",
    "{\n",
    "    name = \"Deaths\",\n",
    "    x = data.Columns[\"dateChecked\"],\n",
    "    y = data.Columns[\"death\"]\n",
    "};\n",
    "\n",
    "var chart = Chart.Plot(new[] { cases, deaths });\n",
    "chart.WithTitle(\"Cases vs Deaths: \" + state);\n",
    "display(chart);"
   ]
  },
  {
   "cell_type": "code",
   "execution_count": null,
   "metadata": {},
   "outputs": [],
   "source": []
  }
 ],
 "metadata": {
  "kernelspec": {
   "display_name": ".NET (C#)",
   "language": "C#",
   "name": ".net-csharp"
  },
  "language_info": {
   "file_extension": ".cs",
   "mimetype": "text/x-csharp",
   "name": "C#",
   "pygments_lexer": "csharp",
   "version": "8.0"
  }
 },
 "nbformat": 4,
 "nbformat_minor": 4
}
