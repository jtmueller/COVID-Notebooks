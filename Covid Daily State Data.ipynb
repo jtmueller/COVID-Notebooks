{
 "cells": [
  {
   "cell_type": "markdown",
   "metadata": {},
   "source": [
    "This notebook downloads daily state COVID-19 data from [The COVID Tracking Project](https://covidtracking.com/) and analyzes it."
   ]
  },
  {
   "cell_type": "markdown",
   "metadata": {},
   "source": [
    "### Set Up\n",
    "\n",
    "Configures [DataFrame](https://devblogs.microsoft.com/dotnet/an-introduction-to-dataframe/), HttpClient"
   ]
  },
  {
   "cell_type": "code",
   "execution_count": 64,
   "metadata": {},
   "outputs": [],
   "source": [
    "#r \"nuget:Microsoft.Data.Analysis\"\n",
    "using Microsoft.Data.Analysis;\n",
    "using Microsoft.AspNetCore.Html;\n",
    "using System.Net.Http;\n",
    "\n",
    "// DataFrame formatter for Jupyter\n",
    "Formatter<DataFrame>.Register((df, writer) => \n",
    "{\n",
    "    var headers = new List<IHtmlContent>();\n",
    "    headers.Add(th(i(\"index\")));\n",
    "    headers.AddRange(df.Columns.Select(c => (IHtmlContent)th(c.Name)));\n",
    "    var rows = new List<List<IHtmlContent>>();\n",
    "    var take = 5;\n",
    "    for (var i = 0; i < Math.Min(take, df.Rows.Count); i++)\n",
    "    {\n",
    "        var cells = new List<IHtmlContent>();\n",
    "        cells.Add(td(i));\n",
    "        foreach (var obj in df.Rows[i])\n",
    "        {\n",
    "            cells.Add(td(obj));\n",
    "        }\n",
    "        rows.Add(cells);\n",
    "    }\n",
    "    \n",
    "    var t = table(\n",
    "        thead(headers),\n",
    "        tbody(rows.Select(r => tr(r)))\n",
    "    );\n",
    "    \n",
    "    writer.Write(t);\n",
    "}, \"text/html\");\n",
    "\n",
    "\n",
    "var client = new HttpClient();"
   ]
  },
  {
   "cell_type": "markdown",
   "metadata": {},
   "source": [
    "### Get Daily Data by State\n",
    "\n",
    "[Model Documentation](https://covidtracking.com/api#apistatesdaily---states-historical-data)"
   ]
  },
  {
   "cell_type": "code",
   "execution_count": 69,
   "metadata": {},
   "outputs": [
    {
     "data": {
      "text/html": [
       "<table><thead><th><i>index</i></th><th>date</th><th>state</th><th>positive</th><th>negative</th><th>pending</th><th>hospitalizedCurrently</th><th>hospitalizedCumulative</th><th>inIcuCurrently</th><th>inIcuCumulative</th><th>onVentilatorCurrently</th><th>onVentilatorCumulative</th><th>recovered</th><th>dateChecked</th><th>death</th><th>hospitalized</th><th>totalTestResults</th><th>fips</th><th>deathIncrease</th><th>hospitalizedIncrease</th><th>negativeIncrease</th><th>positiveIncrease</th><th>totalTestResultsIncrease</th></thead><tbody><tr><td>0</td><td>20200408</td><td>NY</td><td>159937</td><td>231612</td><td>&lt;null&gt;</td><td>18279</td><td>32869</td><td>4925</td><td>&lt;null&gt;</td><td>&lt;null&gt;</td><td>&lt;null&gt;</td><td>14590</td><td>2020-04-09 20:00:00Z</td><td>7067</td><td>32869</td><td>391549</td><td>36</td><td>799</td><td>200</td><td>15775</td><td>10621</td><td>26396</td></tr><tr><td>1</td><td>20200408</td><td>NY</td><td>149316</td><td>215837</td><td>&lt;null&gt;</td><td>18079</td><td>32669</td><td>4593</td><td>&lt;null&gt;</td><td>&lt;null&gt;</td><td>&lt;null&gt;</td><td>14590</td><td>2020-04-08 20:00:00Z</td><td>6268</td><td>32669</td><td>365153</td><td>36</td><td>779</td><td>586</td><td>14642</td><td>10453</td><td>25095</td></tr><tr><td>2</td><td>20200408</td><td>NY</td><td>138863</td><td>201195</td><td>&lt;null&gt;</td><td>17493</td><td>32083</td><td>4593</td><td>&lt;null&gt;</td><td>&lt;null&gt;</td><td>&lt;null&gt;</td><td>14590</td><td>2020-04-07 20:00:00Z</td><td>5489</td><td>32083</td><td>340058</td><td>36</td><td>731</td><td>1880</td><td>11073</td><td>8174</td><td>19247</td></tr><tr><td>3</td><td>20200406</td><td>NY</td><td>130689</td><td>190122</td><td>&lt;null&gt;</td><td>16837</td><td>30203</td><td>4504</td><td>&lt;null&gt;</td><td>&lt;null&gt;</td><td>&lt;null&gt;</td><td>13366</td><td>2020-04-06 20:00:00Z</td><td>4758</td><td>30203</td><td>320811</td><td>36</td><td>599</td><td>2111</td><td>9873</td><td>8658</td><td>18531</td></tr><tr><td>4</td><td>20200404</td><td>NY</td><td>122031</td><td>180249</td><td>&lt;null&gt;</td><td>16479</td><td>28092</td><td>4376</td><td>&lt;null&gt;</td><td>&lt;null&gt;</td><td>&lt;null&gt;</td><td>12187</td><td>2020-04-05 20:00:00Z</td><td>4159</td><td>28092</td><td>302280</td><td>36</td><td>594</td><td>1709</td><td>10332</td><td>8327</td><td>18659</td></tr></tbody></table>"
      ]
     },
     "metadata": {},
     "output_type": "display_data"
    }
   ],
   "source": [
    "string state = \"NY\";\n",
    "\n",
    "DataFrame data;\n",
    "\n",
    "// download the CSV and load it into a DataFrame\n",
    "using (var response = await client.GetAsync(\"https://covidtracking.com/api/states/daily.csv?state=\" + state))\n",
    "using (var stream = await response.Content.ReadAsStreamAsync())\n",
    "{\n",
    "    data = DataFrame.LoadCsv(stream, numberOfRowsToRead: 20);\n",
    "}\n",
    "\n",
    "// parse the dateChecked column\n",
    "var columns = data.Columns;\n",
    "var dateChecked = columns[\"dateChecked\"];\n",
    "var newDateChecked = new PrimitiveDataFrameColumn<DateTimeOffset>(\"dateChecked\", dateChecked.Length);\n",
    "for (var i = 0; i < dateChecked.Length; i++)\n",
    "{\n",
    "    newDateChecked[i] = DateTimeOffset.Parse((string)dateChecked[i]);\n",
    "}\n",
    "columns[\"dateChecked\"] = newDateChecked;\n",
    "\n",
    "// remove some deprecated/unused columns\n",
    "columns.Remove(\"total\");\n",
    "columns.Remove(\"hash\");\n",
    "columns.Remove(\"posNeg\");\n",
    "\n",
    "// show first five rows of loaded data\n",
    "display(data);"
   ]
  },
  {
   "cell_type": "markdown",
   "metadata": {},
   "source": [
    "### Render Chart"
   ]
  },
  {
   "cell_type": "code",
   "execution_count": 70,
   "metadata": {},
   "outputs": [
    {
     "data": {
      "text/html": [
       "<div id=\"aae97998-0850-4a67-aef6-e3ba46a3a824\" style=\"width: 900px; height: 500px;\"></div>\r\n",
       "<script type=\"text/javascript\">\r\n",
       "\r\n",
       "var renderPlotly = function() {\r\n",
       "    var xplotRequire = requirejs.config({context:'xplot-3.0.1',paths:{plotly:'https://cdn.plot.ly/plotly-1.49.2.min'}});\r\n",
       "    xplotRequire(['plotly'], function(Plotly) {\r\n",
       "\n",
       "            var data = [{\"type\":\"scatter\",\"x\":[\"2020-04-09T20:00:00+00:00\",\"2020-04-08T20:00:00+00:00\",\"2020-04-07T20:00:00+00:00\",\"2020-04-06T20:00:00+00:00\",\"2020-04-05T20:00:00+00:00\",\"2020-04-04T20:00:00+00:00\",\"2020-04-03T20:00:00+00:00\",\"2020-04-02T20:00:00+00:00\",\"2020-04-01T20:00:00+00:00\",\"2020-03-31T20:00:00+00:00\",\"2020-03-30T20:00:00+00:00\",\"2020-03-29T20:00:00+00:00\",\"2020-03-28T20:00:00+00:00\",\"2020-03-27T20:00:00+00:00\",\"2020-03-26T20:00:00+00:00\",\"2020-03-25T20:00:00+00:00\",\"2020-03-24T20:00:00+00:00\",\"2020-03-23T20:00:00+00:00\",\"2020-03-22T20:00:00+00:00\",\"2020-03-21T20:00:00+00:00\"],\"y\":[159937.0,149316.0,138863.0,130689.0,122031.0,113704.0,102863.0,92381.0,83712.0,75795.0,66497.0,59513.0,52318.0,44635.0,37258.0,30811.0,25665.0,20875.0,15168.0,10356.0],\"name\":\"Cases\"},{\"type\":\"scatter\",\"x\":[\"2020-04-09T20:00:00+00:00\",\"2020-04-08T20:00:00+00:00\",\"2020-04-07T20:00:00+00:00\",\"2020-04-06T20:00:00+00:00\",\"2020-04-05T20:00:00+00:00\",\"2020-04-04T20:00:00+00:00\",\"2020-04-03T20:00:00+00:00\",\"2020-04-02T20:00:00+00:00\",\"2020-04-01T20:00:00+00:00\",\"2020-03-31T20:00:00+00:00\",\"2020-03-30T20:00:00+00:00\",\"2020-03-29T20:00:00+00:00\",\"2020-03-28T20:00:00+00:00\",\"2020-03-27T20:00:00+00:00\",\"2020-03-26T20:00:00+00:00\",\"2020-03-25T20:00:00+00:00\",\"2020-03-24T20:00:00+00:00\",\"2020-03-23T20:00:00+00:00\",\"2020-03-22T20:00:00+00:00\",\"2020-03-21T20:00:00+00:00\"],\"y\":[7067.0,6268.0,5489.0,4758.0,4159.0,3565.0,2935.0,2373.0,1941.0,1550.0,1218.0,965.0,728.0,519.0,385.0,285.0,210.0,114.0,114.0,44.0],\"name\":\"Deaths\"}];\n",
       "            var layout = {\"title\":\"Cases vs Deaths: NY\"};\n",
       "            Plotly.newPlot('aae97998-0850-4a67-aef6-e3ba46a3a824', data, layout);\n",
       "        \r\n",
       "});\r\n",
       "};\r\n",
       "if ((typeof(requirejs) !==  typeof(Function)) || (typeof(requirejs.config) !== typeof(Function))) { \r\n",
       "    var script = document.createElement(\"script\"); \r\n",
       "    script.setAttribute(\"src\", \"https://cdnjs.cloudflare.com/ajax/libs/require.js/2.3.6/require.min.js\"); \r\n",
       "    script.onload = function(){\r\n",
       "        renderPlotly();\r\n",
       "    };\r\n",
       "    document.getElementsByTagName(\"head\")[0].appendChild(script); \r\n",
       "}\r\n",
       "else {\r\n",
       "    renderPlotly();\r\n",
       "}\r\n",
       "</script>\r\n"
      ]
     },
     "metadata": {},
     "output_type": "display_data"
    }
   ],
   "source": [
    "#r \"nuget:XPlot.Plotly\"\n",
    "using XPlot.Plotly;\n",
    "\n",
    "var cases = new Graph.Scatter\n",
    "{\n",
    "    name = \"Cases\",\n",
    "    x = data.Columns[\"dateChecked\"],\n",
    "    y = data.Columns[\"positive\"]\n",
    "};\n",
    "\n",
    "var deaths = new Graph.Scatter\n",
    "{\n",
    "    name = \"Deaths\",\n",
    "    x = data.Columns[\"dateChecked\"],\n",
    "    y = data.Columns[\"death\"]\n",
    "};\n",
    "\n",
    "var chart = Chart.Plot(new[] { cases, deaths });\n",
    "chart.WithTitle(\"Cases vs Deaths: \" + state);\n",
    "display(chart);"
   ]
  },
  {
   "cell_type": "code",
   "execution_count": null,
   "metadata": {},
   "outputs": [],
   "source": []
  }
 ],
 "metadata": {
  "kernelspec": {
   "display_name": ".NET (C#)",
   "language": "C#",
   "name": ".net-csharp"
  },
  "language_info": {
   "file_extension": ".cs",
   "mimetype": "text/x-csharp",
   "name": "C#",
   "pygments_lexer": "csharp",
   "version": "8.0"
  }
 },
 "nbformat": 4,
 "nbformat_minor": 4
}
